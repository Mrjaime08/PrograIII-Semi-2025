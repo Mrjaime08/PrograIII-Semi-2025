{
  "nbformat": 4,
  "nbformat_minor": 0,
  "metadata": {
    "colab": {
      "provenance": [],
      "authorship_tag": "ABX9TyP8GWp8TedvBqa2ExxmckS6",
      "include_colab_link": true
    },
    "kernelspec": {
      "name": "python3",
      "display_name": "Python 3"
    },
    "language_info": {
      "name": "python"
    }
  },
  "cells": [
    {
      "cell_type": "markdown",
      "metadata": {
        "id": "view-in-github",
        "colab_type": "text"
      },
      "source": [
        "<a href=\"https://colab.research.google.com/github/Mrjaime08/PrograIII-Semi-2025/blob/main/introduccion_python.ipynb\" target=\"_parent\"><img src=\"https://colab.research.google.com/assets/colab-badge.svg\" alt=\"Open In Colab\"/></a>"
      ]
    },
    {
      "cell_type": "code",
      "execution_count": 3,
      "metadata": {
        "colab": {
          "base_uri": "https://localhost:8080/"
        },
        "id": "1cMuyIFKbuiG",
        "outputId": "fa83d78a-cdd3-4a82-ac81-9553ce7fb694"
      },
      "outputs": [
        {
          "output_type": "stream",
          "name": "stdout",
          "text": [
            "hola cracks\n",
            "Bienvenidos chicos a Programacion computacional III\n"
          ]
        }
      ],
      "source": [
        "print(\"hola cracks\")\n",
        "print(\"Bienvenidos chicos a Programacion computacional III\")\n",
        "\n",
        "\n",
        "\n"
      ]
    },
    {
      "cell_type": "code",
      "source": [
        "nombre = \"Jaime Segovia\"\n",
        "edad = 7\n",
        "print(\"Bienvenido\", nombre, edad)\n",
        "\n",
        "Altura = 1.90\n",
        "print(\"estatura:\", Altura)"
      ],
      "metadata": {
        "colab": {
          "base_uri": "https://localhost:8080/"
        },
        "id": "WJyyu8D8dR2E",
        "outputId": "8cfccfa2-2138-453a-9270-bf882e691851"
      },
      "execution_count": 9,
      "outputs": [
        {
          "output_type": "stream",
          "name": "stdout",
          "text": [
            "Bienvenido Jaime Segovia 7\n",
            "estatura: 1.9\n"
          ]
        }
      ]
    },
    {
      "cell_type": "code",
      "source": [
        "num1 = 10.10\n",
        "num2 = 7\n",
        "suma = num1 + num2\n",
        "print(\"la respuesta es:\", suma)"
      ],
      "metadata": {
        "colab": {
          "base_uri": "https://localhost:8080/"
        },
        "id": "-kETYgBddyY2",
        "outputId": "7a2e607a-cc65-4d57-de8c-4c1f57ec01dd"
      },
      "execution_count": 11,
      "outputs": [
        {
          "output_type": "stream",
          "name": "stdout",
          "text": [
            "la respuesta es: 17.1\n"
          ]
        }
      ]
    },
    {
      "cell_type": "code",
      "source": [
        "num1 = float(input(\"Num1: \"))\n",
        "num2 = float(input(\"Num2: \"))\n",
        "suma = num1 + num2\n",
        "print(\"la respuesta es:\", suma)"
      ],
      "metadata": {
        "colab": {
          "base_uri": "https://localhost:8080/"
        },
        "id": "nZltGiEyfY7d",
        "outputId": "5791fd28-93a6-484a-a4c3-df70f55bbb4a"
      },
      "execution_count": 14,
      "outputs": [
        {
          "output_type": "stream",
          "name": "stdout",
          "text": [
            "Num1: 10.10\n",
            "Num2: 7\n",
            "la respuesta es: 17.1\n"
          ]
        }
      ]
    },
    {
      "cell_type": "code",
      "source": [
        "num1 = float(input(\"Num1: \"))\n",
        "num2 = float(input(\"Num2: \"))\n",
        "resta = num1 - num2\n",
        "print(\"la respuesta es:\", resta)"
      ],
      "metadata": {
        "colab": {
          "base_uri": "https://localhost:8080/"
        },
        "id": "0dEEoq_ehwum",
        "outputId": "c1ac262d-856f-4219-c6cb-d9e66b013be9"
      },
      "execution_count": 16,
      "outputs": [
        {
          "output_type": "stream",
          "name": "stdout",
          "text": [
            "Num1: 5\n",
            "Num2: 5\n",
            "la respuesta es: 0.0\n"
          ]
        }
      ]
    }
  ]
}