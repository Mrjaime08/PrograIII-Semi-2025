{
  "nbformat": 4,
  "nbformat_minor": 0,
  "metadata": {
    "colab": {
      "provenance": [],
      "authorship_tag": "ABX9TyPrWfmpXVA8xMyR3qHMhwD3",
      "include_colab_link": true
    },
    "kernelspec": {
      "name": "python3",
      "display_name": "Python 3"
    },
    "language_info": {
      "name": "python"
    }
  },
  "cells": [
    {
      "cell_type": "markdown",
      "metadata": {
        "id": "view-in-github",
        "colab_type": "text"
      },
      "source": [
        "<a href=\"https://colab.research.google.com/github/Mrjaime08/PrograIII-Semi-2025/blob/main/Untitled0.ipynb\" target=\"_parent\"><img src=\"https://colab.research.google.com/assets/colab-badge.svg\" alt=\"Open In Colab\"/></a>"
      ]
    },
    {
      "cell_type": "code",
      "execution_count": null,
      "metadata": {
        "colab": {
          "base_uri": "https://localhost:8080/"
        },
        "id": "1cMuyIFKbuiG",
        "outputId": "fa83d78a-cdd3-4a82-ac81-9553ce7fb694"
      },
      "outputs": [
        {
          "output_type": "stream",
          "name": "stdout",
          "text": [
            "hola cracks\n",
            "Bienvenidos chicos a Programacion computacional III\n"
          ]
        }
      ],
      "source": [
        "print(\"hola cracks\")\n",
        "print(\"Bienvenidos chicos a Programacion computacional III\")\n",
        "\n",
        "\n",
        "\n"
      ]
    },
    {
      "cell_type": "code",
      "source": [
        "nombre = \"Jaime Segovia\"\n",
        "edad = 7\n",
        "print(\"Bienvenido\", nombre, edad)\n",
        "\n",
        "Altura = 1.90\n",
        "print(\"estatura:\", Altura)"
      ],
      "metadata": {
        "colab": {
          "base_uri": "https://localhost:8080/"
        },
        "id": "WJyyu8D8dR2E",
        "outputId": "8cfccfa2-2138-453a-9270-bf882e691851"
      },
      "execution_count": null,
      "outputs": [
        {
          "output_type": "stream",
          "name": "stdout",
          "text": [
            "Bienvenido Jaime Segovia 7\n",
            "estatura: 1.9\n"
          ]
        }
      ]
    },
    {
      "cell_type": "code",
      "source": [
        "num1 = 10.10\n",
        "num2 = 7\n",
        "suma = num1 + num2\n",
        "print(\"la respuesta es:\", suma)"
      ],
      "metadata": {
        "colab": {
          "base_uri": "https://localhost:8080/"
        },
        "id": "-kETYgBddyY2",
        "outputId": "7a2e607a-cc65-4d57-de8c-4c1f57ec01dd"
      },
      "execution_count": null,
      "outputs": [
        {
          "output_type": "stream",
          "name": "stdout",
          "text": [
            "la respuesta es: 17.1\n"
          ]
        }
      ]
    },
    {
      "cell_type": "code",
      "source": [
        "num1 = float(input(\"Num1: \"))\n",
        "num2 = float(input(\"Num2: \"))\n",
        "suma = num1 + num2\n",
        "print(\"la respuesta es:\", suma)"
      ],
      "metadata": {
        "colab": {
          "base_uri": "https://localhost:8080/"
        },
        "id": "nZltGiEyfY7d",
        "outputId": "5791fd28-93a6-484a-a4c3-df70f55bbb4a"
      },
      "execution_count": null,
      "outputs": [
        {
          "output_type": "stream",
          "name": "stdout",
          "text": [
            "Num1: 10.10\n",
            "Num2: 7\n",
            "la respuesta es: 17.1\n"
          ]
        }
      ]
    },
    {
      "cell_type": "code",
      "source": [
        "num1 = float(input(\"Num1: \"))\n",
        "num2 = float(input(\"Num2: \"))\n",
        "resta = num1 - num2\n",
        "print(\"la respuesta es:\", resta)"
      ],
      "metadata": {
        "colab": {
          "base_uri": "https://localhost:8080/"
        },
        "id": "0dEEoq_ehwum",
        "outputId": "c1ac262d-856f-4219-c6cb-d9e66b013be9"
      },
      "execution_count": null,
      "outputs": [
        {
          "output_type": "stream",
          "name": "stdout",
          "text": [
            "Num1: 5\n",
            "Num2: 5\n",
            "la respuesta es: 0.0\n"
          ]
        }
      ]
    },
    {
      "cell_type": "markdown",
      "source": [
        "TIPOS DE DATOS EN PYTHON"
      ],
      "metadata": {
        "id": "G_pT88ycc5jN"
      }
    },
    {
      "cell_type": "code",
      "source": [
        "#ENTERO\n",
        "num1 = 6\n",
        "print(num1, \"Esto es un numero entero\")\n",
        "print( str(num1) + \" Esto es un entero\"  )\n",
        "\n",
        "#DECIMAL\n",
        "num2 = 7.5\n",
        "print(num2, \"Esto es un numero decimal\")\n",
        "\n",
        "#BOOLEANO\n",
        "esMayor = True\n",
        "print(esMayor, \"Esto es un booleano\")\n",
        "\n",
        "#CADENA\n",
        "nombre = \"Luis Hernandez\"\n",
        "cadena = input(\"Dime una cadena: \")\n",
        "valor = int(input(\"Dime un valor: \"))\n",
        "print(nombre, \"Esto es una cadena\", cadena[:valor])\n",
        "\n",
        "print( nombre, \"Letra inicial\", nombre[0],  \"Un valor especifico\", nombre[5], \"rango\", nombre[0:4], \"Comenzar desde el final\", nombre[-1])\n",
        "print( nombre[5:len(nombre)], nombre[:4] )\n",
        "print(type(nombre))"
      ],
      "metadata": {
        "id": "HfHLRgjzc-Em"
      },
      "execution_count": null,
      "outputs": []
    },
    {
      "cell_type": "markdown",
      "source": [
        "FECHAS"
      ],
      "metadata": {
        "id": "zBUEOmZidGdr"
      }
    },
    {
      "cell_type": "code",
      "source": [
        "#FECHAS\n",
        "from datetime import datetime, date, time\n",
        "fecha = datetime.now()\n",
        "print(fecha, fecha.date(), fecha.time())\n",
        "print(type(fecha))\n",
        "\n",
        "fechaPersonalizada = date(2025,8,1)\n",
        "print(fechaPersonalizada)\n",
        "\n",
        "fecha = \"2025-08-08\"\n",
        "fecha = datetime.strptime(fecha, \"%Y-%m-%d\")\n",
        "print(fecha)\n",
        "\n",
        "print( fecha.strftime(\"%d/%m/%Y\"), \"Regresamos a clases \" )\n",
        "\n",
        "fechaNac = input(\"Dime tu fecha de nacimiento en formato d-m-Y: \")\n",
        "fechaNac = datetime.strptime(fechaNac, \"%d-%m-%Y\")\n",
        "print(fechaNac)"
      ],
      "metadata": {
        "id": "LkXp7P9odIjb"
      },
      "execution_count": null,
      "outputs": []
    },
    {
      "cell_type": "markdown",
      "source": [
        "FUNCIONES"
      ],
      "metadata": {
        "id": "IW51J4rBaZ5X"
      }
    },
    {
      "cell_type": "code",
      "source": [
        "#SUMA\n",
        "\n",
        "def suma(num1, num2):\n",
        "  return num1 + num2\n",
        "  print(\"La suma de 5 + 8 = \", suma(5,8))\n",
        "num1 = float(input(\"Num1: \"))\n",
        "num2 = float(input(\"Num2: \"))\n",
        "respuesta = suma(num1, num2)\n",
        "print(\"La suma es: \", respuesta)"
      ],
      "metadata": {
        "id": "4LzVNGZCdSQT"
      },
      "execution_count": null,
      "outputs": []
    },
    {
      "cell_type": "code",
      "source": [
        "#RESTA -- Hacer un ejercicio en python haciendo uso de las funciones, que reste dos numeros introducidos por el usuario. TAREA.\n",
        "def resta (num1, num2):\n",
        "    return num1 - num2\n",
        "print(\"\")\n",
        "num1 = float(input(\"Ingrese la primera cantidad: \"))\n",
        "num2 = float(input(\"Ingrese la segunda cantidad: \"))\n",
        "respuesta = resta(num1, num2)\n",
        "print(\"La respuesta de la resta es:\", respuesta)"
      ],
      "metadata": {
        "colab": {
          "base_uri": "https://localhost:8080/"
        },
        "id": "SgxL56SBYWBl",
        "outputId": "18c6299d-6b1f-4469-db3d-883ebdf3724a"
      },
      "execution_count": 7,
      "outputs": [
        {
          "output_type": "stream",
          "name": "stdout",
          "text": [
            "\n",
            "Ingrese la primera cantidad: 10\n",
            "Ingrese la segunda cantidad: 5\n",
            "La respuesta de la resta es: 5.0\n"
          ]
        }
      ]
    }
  ]
}
