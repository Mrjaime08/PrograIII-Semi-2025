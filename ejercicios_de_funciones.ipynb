{
  "nbformat": 4,
  "nbformat_minor": 0,
  "metadata": {
    "colab": {
      "provenance": [],
      "authorship_tag": "ABX9TyNYOw539j0Fgx1e9ThSt5U1",
      "include_colab_link": true
    },
    "kernelspec": {
      "name": "python3",
      "display_name": "Python 3"
    },
    "language_info": {
      "name": "python"
    }
  },
  "cells": [
    {
      "cell_type": "markdown",
      "metadata": {
        "id": "view-in-github",
        "colab_type": "text"
      },
      "source": [
        "<a href=\"https://colab.research.google.com/github/Mrjaime08/PrograIII-Semi-2025/blob/main/ejercicios_de_funciones.ipynb\" target=\"_parent\"><img src=\"https://colab.research.google.com/assets/colab-badge.svg\" alt=\"Open In Colab\"/></a>"
      ]
    },
    {
      "cell_type": "code",
      "execution_count": null,
      "metadata": {
        "colab": {
          "base_uri": "https://localhost:8080/"
        },
        "id": "1cMuyIFKbuiG",
        "outputId": "fa83d78a-cdd3-4a82-ac81-9553ce7fb694"
      },
      "outputs": [
        {
          "output_type": "stream",
          "name": "stdout",
          "text": [
            "hola cracks\n",
            "Bienvenidos chicos a Programacion computacional III\n"
          ]
        }
      ],
      "source": [
        "print(\"hola cracks\")\n",
        "print(\"Bienvenidos chicos a Programacion computacional III\")\n",
        "\n",
        "\n",
        "\n"
      ]
    },
    {
      "cell_type": "code",
      "source": [
        "nombre = \"Jaime Segovia\"\n",
        "edad = 7\n",
        "print(\"Bienvenido\", nombre, edad)\n",
        "\n",
        "Altura = 1.90\n",
        "print(\"estatura:\", Altura)"
      ],
      "metadata": {
        "colab": {
          "base_uri": "https://localhost:8080/"
        },
        "id": "WJyyu8D8dR2E",
        "outputId": "8cfccfa2-2138-453a-9270-bf882e691851"
      },
      "execution_count": null,
      "outputs": [
        {
          "output_type": "stream",
          "name": "stdout",
          "text": [
            "Bienvenido Jaime Segovia 7\n",
            "estatura: 1.9\n"
          ]
        }
      ]
    },
    {
      "cell_type": "code",
      "source": [
        "num1 = 10.10\n",
        "num2 = 7\n",
        "suma = num1 + num2\n",
        "print(\"la respuesta es:\", suma)"
      ],
      "metadata": {
        "colab": {
          "base_uri": "https://localhost:8080/"
        },
        "id": "-kETYgBddyY2",
        "outputId": "7a2e607a-cc65-4d57-de8c-4c1f57ec01dd"
      },
      "execution_count": null,
      "outputs": [
        {
          "output_type": "stream",
          "name": "stdout",
          "text": [
            "la respuesta es: 17.1\n"
          ]
        }
      ]
    },
    {
      "cell_type": "code",
      "source": [
        "num1 = float(input(\"Num1: \"))\n",
        "num2 = float(input(\"Num2: \"))\n",
        "suma = num1 + num2\n",
        "print(\"la respuesta es:\", suma)"
      ],
      "metadata": {
        "colab": {
          "base_uri": "https://localhost:8080/"
        },
        "id": "nZltGiEyfY7d",
        "outputId": "5791fd28-93a6-484a-a4c3-df70f55bbb4a"
      },
      "execution_count": null,
      "outputs": [
        {
          "output_type": "stream",
          "name": "stdout",
          "text": [
            "Num1: 10.10\n",
            "Num2: 7\n",
            "la respuesta es: 17.1\n"
          ]
        }
      ]
    },
    {
      "cell_type": "code",
      "source": [
        "num1 = float(input(\"Num1: \"))\n",
        "num2 = float(input(\"Num2: \"))\n",
        "resta = num1 - num2\n",
        "print(\"la respuesta es:\", resta)"
      ],
      "metadata": {
        "colab": {
          "base_uri": "https://localhost:8080/"
        },
        "id": "0dEEoq_ehwum",
        "outputId": "c1ac262d-856f-4219-c6cb-d9e66b013be9"
      },
      "execution_count": null,
      "outputs": [
        {
          "output_type": "stream",
          "name": "stdout",
          "text": [
            "Num1: 5\n",
            "Num2: 5\n",
            "la respuesta es: 0.0\n"
          ]
        }
      ]
    },
    {
      "cell_type": "markdown",
      "source": [
        "TIPOS DE DATOS EN PYTHON"
      ],
      "metadata": {
        "id": "G_pT88ycc5jN"
      }
    },
    {
      "cell_type": "code",
      "source": [
        "#ENTERO\n",
        "num1 = 6\n",
        "print(num1, \"Esto es un numero entero\")\n",
        "print( str(num1) + \" Esto es un entero\"  )\n",
        "\n",
        "#DECIMAL\n",
        "num2 = 7.5\n",
        "print(num2, \"Esto es un numero decimal\")\n",
        "\n",
        "#BOOLEANO\n",
        "esMayor = True\n",
        "print(esMayor, \"Esto es un booleano\")\n",
        "\n",
        "#CADENA\n",
        "nombre = \"Luis Hernandez\"\n",
        "cadena = input(\"Dime una cadena: \")\n",
        "valor = int(input(\"Dime un valor: \"))\n",
        "print(nombre, \"Esto es una cadena\", cadena[:valor])\n",
        "\n",
        "print( nombre, \"Letra inicial\", nombre[0],  \"Un valor especifico\", nombre[5], \"rango\", nombre[0:4], \"Comenzar desde el final\", nombre[-1])\n",
        "print( nombre[5:len(nombre)], nombre[:4] )\n",
        "print(type(nombre))"
      ],
      "metadata": {
        "id": "HfHLRgjzc-Em"
      },
      "execution_count": null,
      "outputs": []
    },
    {
      "cell_type": "markdown",
      "source": [
        "FECHAS"
      ],
      "metadata": {
        "id": "zBUEOmZidGdr"
      }
    },
    {
      "cell_type": "code",
      "source": [
        "#FECHAS\n",
        "from datetime import datetime, date, time\n",
        "fecha = datetime.now()\n",
        "print(fecha, fecha.date(), fecha.time())\n",
        "print(type(fecha))\n",
        "\n",
        "fechaPersonalizada = date(2025,8,1)\n",
        "print(fechaPersonalizada)\n",
        "\n",
        "fecha = \"2025-08-08\"\n",
        "fecha = datetime.strptime(fecha, \"%Y-%m-%d\")\n",
        "print(fecha)\n",
        "\n",
        "print( fecha.strftime(\"%d/%m/%Y\"), \"Regresamos a clases \" )\n",
        "\n",
        "fechaNac = input(\"Dime tu fecha de nacimiento en formato d-m-Y: \")\n",
        "fechaNac = datetime.strptime(fechaNac, \"%d-%m-%Y\")\n",
        "print(fechaNac)"
      ],
      "metadata": {
        "id": "LkXp7P9odIjb"
      },
      "execution_count": null,
      "outputs": []
    },
    {
      "cell_type": "markdown",
      "source": [
        "FUNCIONES"
      ],
      "metadata": {
        "id": "IW51J4rBaZ5X"
      }
    },
    {
      "cell_type": "code",
      "source": [
        "#SUMA\n",
        "\n",
        "def suma(num1, num2):\n",
        "  return num1 + num2\n",
        "  print(\"La suma de 5 + 8 = \", suma(5,8))\n",
        "num1 = float(input(\"Num1: \"))\n",
        "num2 = float(input(\"Num2: \"))\n",
        "respuesta = suma(num1, num2)\n",
        "print(\"La suma es: \", respuesta)"
      ],
      "metadata": {
        "id": "4LzVNGZCdSQT"
      },
      "execution_count": null,
      "outputs": []
    },
    {
      "cell_type": "code",
      "source": [
        "#RESTA -- Hacer un ejercicio en python haciendo uso de las funciones, que reste dos numeros introducidos por el usuario. TAREA.\n",
        "def resta (num1, num2):\n",
        "    return num1 - num2\n",
        "num1 = float(input(\"Ingrese la primera cantidad: \"))\n",
        "num2 = float(input(\"Ingrese la segunda cantidad: \"))\n",
        "respuesta = resta(num1, num2)\n",
        "print(\"\")\n",
        "print(\"La respuesta de la resta es:\", respuesta)"
      ],
      "metadata": {
        "colab": {
          "base_uri": "https://localhost:8080/"
        },
        "id": "SgxL56SBYWBl",
        "outputId": "220bc0fa-25ee-4d7f-eecd-4e1cb1fb7204"
      },
      "execution_count": 1,
      "outputs": [
        {
          "output_type": "stream",
          "name": "stdout",
          "text": [
            "Ingrese la primera cantidad: 5\n",
            "Ingrese la segunda cantidad: 3\n",
            "\n",
            "La respuesta de la resta es: 2.0\n"
          ]
        }
      ]
    },
    {
      "cell_type": "markdown",
      "source": [
        "CALCULADORA BASICA"
      ],
      "metadata": {
        "id": "wik8OUb3MOB8"
      }
    },
    {
      "cell_type": "code",
      "source": [
        "def suma(num1, num2):\n",
        "    return num1 + num2\n",
        "\n",
        "def resta(num1, num2):\n",
        "    return num1 - num2\n",
        "\n",
        "def multiplicar(num1, num2):\n",
        "    return num1 * num2\n",
        "\n",
        "def dividir(num1, num2):\n",
        "    if num2 != 0:\n",
        "        return num1 / num2\n",
        "    else:\n",
        "        return \"No se puede dividir entre cero\"\n",
        "\n",
        "def mitad(num):\n",
        "    return num / 2\n",
        "\n",
        "# Menú de operaciones\n",
        "print(\"Selecciona una operación:\")\n",
        "print(\"1. Suma\")\n",
        "print(\"2. Resta\")\n",
        "print(\"3. Multiplicación\")\n",
        "print(\"4. División\")\n",
        "print(\"5. Mitad de un número\")\n",
        "\n",
        "opcion = input(\"Opción (1-5): \")\n",
        "\n",
        "# Operaciones que requieren dos números\n",
        "if opcion in ['1', '2', '3', '4']:\n",
        "    num1 = float(input(\"Num1: \"))\n",
        "    num2 = float(input(\"Num2: \"))\n",
        "\n",
        "    if opcion == '1':\n",
        "        resultado = suma(num1, num2)\n",
        "    elif opcion == '2':\n",
        "        resultado = resta(num1, num2)\n",
        "    elif opcion == '3':\n",
        "        resultado = multiplicar(num1, num2)\n",
        "    elif opcion == '4':\n",
        "        resultado = dividir(num1, num2)\n",
        "\n",
        "# Operación que requiere un solo número\n",
        "elif opcion == '5':\n",
        "    num = float(input(\"Ingresa un número: \"))\n",
        "    resultado = mitad(num)\n",
        "else:\n",
        "    resultado = \"Opción inválida\"\n",
        "\n",
        "print(\"Resultado:\", resultado)"
      ],
      "metadata": {
        "id": "LeDjmEk6Lnfc"
      },
      "execution_count": null,
      "outputs": []
    },
    {
      "cell_type": "code",
      "source": [
        "#Hacer un ejercicio en python haciendo uso de funciones de usuario, que convierta grados CELCIUS a FARENHEIT\n",
        "\n",
        "def CelciusAfarenheit(c):\n",
        "  return c*1.8 + 32"
      ],
      "metadata": {
        "id": "qF0qSDkoTrOB"
      },
      "execution_count": null,
      "outputs": []
    },
    {
      "cell_type": "code",
      "source": [
        "c = int(input(\"Grados celcius: \"))\n",
        "f = CelciusAfarenheit(c)\n",
        "print(\"F: \", f)"
      ],
      "metadata": {
        "colab": {
          "base_uri": "https://localhost:8080/"
        },
        "id": "mE3e__k9YP45",
        "outputId": "9bf88c5d-89bd-4f73-8003-48dab7bbf678"
      },
      "execution_count": 7,
      "outputs": [
        {
          "output_type": "stream",
          "name": "stdout",
          "text": [
            "Grados celcius: 7\n",
            "F:  44.6\n"
          ]
        }
      ]
    },
    {
      "cell_type": "code",
      "source": [
        "#Hacer un ejercicio en python haciendo uso de funciones de usuario, que convierta FARENHEIT a CELCIUS\n",
        "\n",
        "def farenheitAcelcius(f):\n",
        "  return (f-32)/1.8\n",
        "\n",
        "f = int(input(\"Grados farenheit: \"))\n",
        "c = farenheitAcelcius(f)\n",
        "print(\"C: \", c)"
      ],
      "metadata": {
        "colab": {
          "base_uri": "https://localhost:8080/"
        },
        "id": "i4mGIO9RZ1_l",
        "outputId": "782a2370-7b10-46f9-d6a8-f2ffe56a5d5c"
      },
      "execution_count": 22,
      "outputs": [
        {
          "output_type": "stream",
          "name": "stdout",
          "text": [
            "Grados farenheit: 700\n",
            "C:  371.1111111111111\n"
          ]
        }
      ]
    },
    {
      "cell_type": "code",
      "source": [
        "#Hacer un ejercicio en python haciendo uso de funciones de usuario, que convierta de celcius a farenheit y que la respuesta los convierta a celcius nuevamente.\n",
        "\n",
        "def celciusafarenheit(f):\n",
        "    return (f-32) * 5/9\n",
        "\n",
        "f = float(input(\"Grados farenheit: \"))\n",
        "c = celciusafarenheit(f)\n",
        "print(\"C: \", c)"
      ],
      "metadata": {
        "colab": {
          "base_uri": "https://localhost:8080/"
        },
        "id": "RsS6Rw_2cF7N",
        "outputId": "f33a2d69-9702-401c-ae82-f3be7516e692"
      },
      "execution_count": 28,
      "outputs": [
        {
          "output_type": "stream",
          "name": "stdout",
          "text": [
            "Grados farenheit: 100.4\n",
            "C:  38.0\n"
          ]
        }
      ]
    },
    {
      "cell_type": "code",
      "source": [
        "#GRADOS CELCIUS a  KELVIN\n",
        "def celciusAkelvin(c):\n",
        "  return c+ 273.15\n",
        "\n",
        "c = float(input(\"Grados celcius: \"))\n",
        "k = celciusAkelvin(c)\n",
        "print(\"K: \", k)"
      ],
      "metadata": {
        "colab": {
          "base_uri": "https://localhost:8080/"
        },
        "id": "uheiLUKQe2U_",
        "outputId": "16f2c05b-8509-4843-8e0c-bdaefdb3ba44"
      },
      "execution_count": 31,
      "outputs": [
        {
          "output_type": "stream",
          "name": "stdout",
          "text": [
            "Grados celcius: 35\n",
            "K:  308.15\n"
          ]
        }
      ]
    },
    {
      "cell_type": "code",
      "source": [
        "#Hacer un ejercicio en python haciendo uso de funciones de usuario, que calcule el sueldo de un empleado\n",
        "#segun el numero de horas trabajadas y el valor por hora\n",
        "\n",
        "def sueldo(numero, valorXhr):\n",
        "  sueldo = numhrs * valorXhr * 30\n",
        "  return sueldo\n",
        "\n",
        "numhrs = float(input(\"Horas trabajadas: \"))\n",
        "valorXhr = float(input(\"Valor por hora: \"))\n",
        "sueldo = sueldo(numhrs, valorXhr)\n",
        "print(\" \")\n",
        "print(\"Sueldo a pagar: \", sueldo)"
      ],
      "metadata": {
        "colab": {
          "base_uri": "https://localhost:8080/"
        },
        "id": "OKhe7OZwha7F",
        "outputId": "a90306e5-4135-4b31-dacf-eb804dc83a64"
      },
      "execution_count": 37,
      "outputs": [
        {
          "output_type": "stream",
          "name": "stdout",
          "text": [
            "Horas trabajadas: 8\n",
            "Valor por hora: 3.25\n",
            " \n",
            "Sueldo a pagar:  780.0\n"
          ]
        }
      ]
    },
    {
      "cell_type": "code",
      "source": [
        "#Hacer un ejercicio en python haciendo uso de funciones de usuario, que permita elevar un numero a un exponente\n",
        "def exponenciacion(b,e):\n",
        "  return b**e\n",
        "\n",
        "b = float(input(\"Base: \"))\n",
        "e = float(input(\"Exponente: \"))\n",
        "resultado = exponenciacion(b,e)\n",
        "print(\"El resultado es: \", resultado)"
      ],
      "metadata": {
        "colab": {
          "base_uri": "https://localhost:8080/"
        },
        "id": "lh0qGbA5j2WJ",
        "outputId": "12644762-8d65-4912-ce6f-39303583da74"
      },
      "execution_count": 46,
      "outputs": [
        {
          "output_type": "stream",
          "name": "stdout",
          "text": [
            "Base: 8\n",
            "Exponente: 8\n",
            "El resultado es:  16777216.0\n"
          ]
        }
      ]
    }
  ]
}